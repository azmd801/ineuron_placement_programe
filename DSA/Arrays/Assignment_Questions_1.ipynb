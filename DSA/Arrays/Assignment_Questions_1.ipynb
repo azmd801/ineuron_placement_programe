{
  "nbformat": 4,
  "nbformat_minor": 0,
  "metadata": {
    "colab": {
      "provenance": [],
      "authorship_tag": "ABX9TyMKYkh6VilR2qpzuDfUfXKr",
      "include_colab_link": true
    },
    "kernelspec": {
      "name": "python3",
      "display_name": "Python 3"
    },
    "language_info": {
      "name": "python"
    }
  },
  "cells": [
    {
      "cell_type": "markdown",
      "metadata": {
        "id": "view-in-github",
        "colab_type": "text"
      },
      "source": [
        "<a href=\"https://colab.research.google.com/github/azmd801/ineuron_placement_programe/blob/main/DSA/Arrays/Assignment_Questions_1.ipynb\" target=\"_parent\"><img src=\"https://colab.research.google.com/assets/colab-badge.svg\" alt=\"Open In Colab\"/></a>"
      ]
    },
    {
      "cell_type": "markdown",
      "source": [
        "<aside>\n",
        "💡 **Q1.** Given an array of integers nums and an integer target, return indices of the two numbers such that they add up to target.\n",
        "\n",
        "You may assume that each input would have exactly one solution, and you may not use the same element twice.\n",
        "\n",
        "You can return the answer in any order.\n",
        "\n",
        "**Example:**\n",
        "Input: nums = [2,7,11,15], target = 9\n",
        "Output0 [0,1]\n",
        "\n",
        "**Explanation:** Because nums[0] + nums[1] == 9, we return [0, 1][\n",
        "\n",
        "</aside>"
      ],
      "metadata": {
        "id": "1jrd92R8uevK"
      }
    },
    {
      "cell_type": "code",
      "execution_count": null,
      "metadata": {
        "colab": {
          "base_uri": "https://localhost:8080/"
        },
        "id": "sEj9BeH7tPur",
        "outputId": "39f2d727-4f45-42b2-ad9a-3a0ebd849e45"
      },
      "outputs": [
        {
          "output_type": "stream",
          "name": "stdout",
          "text": [
            "[0, 1]\n"
          ]
        }
      ],
      "source": [
        "from typing import List, Optional\n",
        "\n",
        "def two_sum_indices(nums: List[int], target: int) -> Optional[List[int]]:\n",
        "    left = 0\n",
        "    right = len(nums) - 1\n",
        "\n",
        "    while left < right:\n",
        "        sum = nums[left] + nums[right]\n",
        "        if sum == target:\n",
        "            return [left, right]\n",
        "        elif sum > target:\n",
        "            right -= 1\n",
        "        else:\n",
        "            left += 1\n",
        "\n",
        "    return None  # Return None if no solution is found\n",
        "\n",
        "# Example usage\n",
        "array = [2, 7, 11, 15]\n",
        "target = 9\n",
        "\n",
        "result = two_sum_indices(array, target)\n",
        "print(result)  # Output: [0, 1]"
      ]
    },
    {
      "cell_type": "markdown",
      "source": [
        "<aside>\n",
        "💡 **Q2.** Given an integer array nums and an integer val, remove all occurrences of val in nums in-place. The order of the elements may be changed. Then return the number of elements in nums which are not equal to val.\n",
        "\n",
        "Consider the number of elements in nums which are not equal to val be k, to get accepted, you need to do the following things:\n",
        "\n",
        "- Change the array nums such that the first k elements of nums contain the elements which are not equal to val. The remaining elements of nums are not important as well as the size of nums.\n",
        "- Return k.\n",
        "\n",
        "**Example :**\n",
        "Input: nums = [3,2,2,3], val = 3\n",
        "Output: 2, nums = [2,2,_*,_*]\n",
        "\n",
        "**Explanation:** Your function should return k = 2, with the first two elements of nums being 2. It does not matter what you leave beyond the returned k (hence they are underscores)\n",
        "\n",
        "</aside>"
      ],
      "metadata": {
        "id": "2-wtjMh06H_E"
      }
    },
    {
      "cell_type": "code",
      "source": [
        "from typing import List\n",
        "\n",
        "def remove_elements(nums: List[int], val: int) -> tuple[int, List[int]]:\n",
        "    k = 0\n",
        "    for i in range(len(nums)):\n",
        "        if nums[i] == val:\n",
        "            # nums[i] = '#'\n",
        "            continue\n",
        "\n",
        "        nums[k] = nums[i]\n",
        "        k += 1\n",
        "\n",
        "    return k, nums\n",
        "\n",
        "# Example usage\n",
        "nums, val = [1, 2, 3, 3, 4, 3, 4], 4\n",
        "k, nums = remove_elements(nums, val)\n",
        "\n",
        "print(f'Number of elements in nums which are not equal to val: {k}, distinct elements: {nums[:k]}')\n"
      ],
      "metadata": {
        "id": "PsG6ogzN6Fi0",
        "outputId": "a4f935ed-4a52-4f2a-b38c-470a51bed987",
        "colab": {
          "base_uri": "https://localhost:8080/"
        }
      },
      "execution_count": null,
      "outputs": [
        {
          "output_type": "stream",
          "name": "stdout",
          "text": [
            "Number of elements in nums which are not equal to val: 5, distinct elements: [1, 2, 3, 3, 3]\n"
          ]
        }
      ]
    },
    {
      "cell_type": "markdown",
      "source": [
        "<aside>\n",
        "💡 **Q3.** Given a sorted array of distinct integers and a target value, return the index if the target is found. If not, return the index where it would be if it were inserted in order.\n",
        "\n",
        "You must write an algorithm with O(log n) runtime complexity.\n",
        "\n",
        "**Example 1:**\n",
        "Input: nums = [1,3,5,6], target = 5\n",
        "\n",
        "Output: 2\n",
        "\n",
        "</aside>"
      ],
      "metadata": {
        "id": "cJvGHxiOTVci"
      }
    },
    {
      "cell_type": "code",
      "source": [
        "from typing import List\n",
        "\n",
        "def find_target(array: List[int], target: int) -> int:\n",
        "    # Initialize the left and right pointers\n",
        "    left = 0\n",
        "    right = len(array) - 1\n",
        "    \n",
        "    while left < right:\n",
        "        middle = (left + right) // 2  # Calculate the middle index\n",
        "        \n",
        "        if target == array[middle]:\n",
        "            return middle  # Return the index if target is found\n",
        "        \n",
        "        elif target < array[middle]:\n",
        "            right = middle   # Update the right pointer\n",
        "            \n",
        "        else:\n",
        "            left = middle + 1  # Update the left pointer\n",
        "    \n",
        "    return left +1  # Return -potential index if target is not found\n",
        "\n",
        "# Example usage\n",
        "array = [2, 5, 8, 12, 16, 23, 38, 56, 72, 91]\n",
        "target = 23\n",
        "result = find_target(array, target)\n",
        "print(f\"Index of target {target}: {result}\")"
      ],
      "metadata": {
        "id": "EMs_QsRIGV0P",
        "outputId": "299b4a03-7ec7-4a24-c1e1-f6aece7d09ed",
        "colab": {
          "base_uri": "https://localhost:8080/"
        }
      },
      "execution_count": 28,
      "outputs": [
        {
          "output_type": "stream",
          "name": "stdout",
          "text": [
            "Index of target 23: 5\n"
          ]
        }
      ]
    },
    {
      "cell_type": "markdown",
      "source": [
        "<aside>\n",
        "💡 **Q4.** You are given a large integer represented as an integer array digits, where each digits[i] is the ith digit of the integer. The digits are ordered from most significant to least significant in left-to-right order. The large integer does not contain any leading 0's.\n",
        "\n",
        "Increment the large integer by one and return the resulting array of digits.\n",
        "\n",
        "**Example 1:**\n",
        "Input: digits = [1,2,3]\n",
        "Output: [1,2,4]\n",
        "\n",
        "**Explanation:** The array represents the integer 123.\n",
        "\n",
        "Incrementing by one gives 123 + 1 = 124.\n",
        "Thus, the result should be [1,2,4].\n",
        "\n",
        "</aside>"
      ],
      "metadata": {
        "id": "sXQQeeWOmziu"
      }
    },
    {
      "cell_type": "code",
      "source": [
        "def increase_large_int(num: list) -> list:\n",
        "\n",
        "    result = [0] * (len(num) + 1)  # Initialize result array with enough space for carry\n",
        "    carry = 1  \n",
        "    digit = num[-1]  \n",
        "\n",
        "    for i in range(len(num)):\n",
        "        sum = num[len(num) - 1 - i] + carry  \n",
        "        carry = sum // 10  \n",
        "        digit = sum % 10  \n",
        "        result[len(num) - i] = digit  \n",
        "\n",
        "    result[0] = carry  # If carry is non-zero, set the first element in the result array to carry\n",
        "\n",
        "    if result[0] == 0:\n",
        "        return result[1:]  # Remove leading zeros if present\n",
        "\n",
        "    return result\n",
        "\n",
        "# Test case\n",
        "num = [9, 9, 9]\n",
        "result = increase_large_int(num)\n",
        "print(f\"Incremented large integer: {result}\""
      ],
      "metadata": {
        "id": "RUc1GyZfHnDx",
        "outputId": "b5800f1c-4a8c-4677-c7e7-17731a04c8dc",
        "colab": {
          "base_uri": "https://localhost:8080/"
        }
      },
      "execution_count": null,
      "outputs": [
        {
          "output_type": "execute_result",
          "data": {
            "text/plain": [
              "[1, 0, 0, 0]"
            ]
          },
          "metadata": {},
          "execution_count": 16
        }
      ]
    },
    {
      "cell_type": "markdown",
      "source": [
        "<aside>\n",
        "💡 **Q5.** You are given two integer arrays nums1 and nums2, sorted in non-decreasing order, and two integers m and n, representing the number of elements in nums1 and nums2 respectively.\n",
        "\n",
        "Merge nums1 and nums2 into a single array sorted in non-decreasing order.\n",
        "\n",
        "The final sorted array should not be returned by the function, but instead be stored inside the array nums1. To accommodate this, nums1 has a length of m + n, where the first m elements denote the elements that should be merged, and the last n elements are set to 0 and should be ignored. nums2 has a length of n.\n",
        "\n",
        "**Example 1:**\n",
        "Input: nums1 = [1,2,3,0,0,0], m = 3, nums2 = [2,5,6], n = 3\n",
        "Output: [1,2,2,3,5,6]\n",
        "\n",
        "**Explanation:** The arrays we are merging are [1,2,3] and [2,5,6].\n",
        "The result of the merge is [1,2,2,3,5,6] with the underlined elements coming from nums1.\n",
        "\n",
        "</aside>"
      ],
      "metadata": {
        "id": "tBUMHNc8bjpX"
      }
    },
    {
      "cell_type": "code",
      "source": [
        "from typing import List\n",
        "\n",
        "def merge_sorted_arrays(nums1: List[int], nums2: List[int]) -> List[int]:\n",
        "\n",
        "    m = len(nums1) - len(nums2)  # Number of elements in nums1 before merging\n",
        "\n",
        "    ptr1 = m - 1  # Pointer for nums1\n",
        "    ptr2 = len(nums2) - 1  # Pointer for nums2\n",
        "    ptr = -1  # Pointer for inserting elements in nums1\n",
        "\n",
        "    while ptr1 >= 0 and ptr2 >= 0:\n",
        "        if nums1[ptr1] >= nums2[ptr2]:\n",
        "            nums1[ptr] = nums1[ptr1]\n",
        "            nums1[ptr1] = 0\n",
        "            ptr1 -= 1  # Move pointer for nums1 one step back\n",
        "        else:\n",
        "            nums1[ptr] = nums2[ptr2]\n",
        "            ptr2 -= 1  # Move pointer for nums2 one step back\n",
        "\n",
        "        ptr -= 1  # Move pointer for inserting elements one step back\n",
        "\n",
        "    if ptr2 >= 0:\n",
        "        nums1[:ptr2 + 1] = nums2[:ptr2 + 1]  # Copy remaining elements from nums2 to nums1\n",
        "\n",
        "    return nums1\n",
        "\n",
        "\n",
        "# test case\n",
        "nums1 = [1, 2, 3, 0, 0, 0]\n",
        "nums2 = [2, 5, 6]\n",
        "result = merge_sorted_arrays(nums1, nums2)\n",
        "\n",
        "print(f\"Output: {result}\")\n",
        "      "
      ],
      "metadata": {
        "id": "rxrXujxpAExt",
        "colab": {
          "base_uri": "https://localhost:8080/"
        },
        "outputId": "4e6cdc8b-9030-4d09-e1e8-8311a93d9e39"
      },
      "execution_count": 12,
      "outputs": [
        {
          "output_type": "stream",
          "name": "stdout",
          "text": [
            "Output: [1, 2, 2, 3, 5, 6]\n"
          ]
        }
      ]
    },
    {
      "cell_type": "markdown",
      "source": [
        "<aside>\n",
        "💡 **Q6.** Given an integer array nums, return true if any value appears at least twice in the array, and return false if every element is distinct.\n",
        "\n",
        "**Example 1:**\n",
        "Input: nums = [1,2,3,1]\n",
        "\n",
        "Output: true\n",
        "\n",
        "</aside>"
      ],
      "metadata": {
        "id": "PGrr14gMQlUC"
      }
    },
    {
      "cell_type": "code",
      "source": [
        "from typing import List\n",
        "\n",
        "def check_distinct(nums: List[int]) -> bool:\n",
        "\n",
        "  unique_nums = set()  # Set to store unique elements\n",
        "\n",
        "  for num in nums:\n",
        "    if num in unique_nums:  # Check if num is already in the set\n",
        "      return True  # Found a duplicate, return True\n",
        "    else:\n",
        "      unique_nums.add(num)  # Add num to the set as it is unique\n",
        "\n",
        "  return False  # No duplicates found, return False\n",
        "\n",
        "# Use case \n",
        "nums = [1, 2, 3, 4, 6, 9, 1, 5, 6]\n",
        "print(f\"Is there any duplicate elements in {nums}: {check_distinct(nums)}\")\n",
        "\n",
        "nums = [1, 2, 3, 4, 6]\n",
        "print(f\"Is there any duplicate elements in {nums}: {check_distinct(nums)}\")"
      ],
      "metadata": {
        "colab": {
          "base_uri": "https://localhost:8080/"
        },
        "id": "3pbRdOnFYu7R",
        "outputId": "f88baa4b-0900-46c9-c171-b825d4acaff7"
      },
      "execution_count": 16,
      "outputs": [
        {
          "output_type": "stream",
          "name": "stdout",
          "text": [
            "Is there any duplicate elements in [1, 2, 3, 4, 6, 9, 1, 5, 6]: True\n",
            "Is there any duplicate elements in [1, 2, 3, 4, 6]: False\n"
          ]
        }
      ]
    },
    {
      "cell_type": "markdown",
      "source": [
        "<aside>\n",
        "💡 **Q8.** You have a set of integers s, which originally contains all the numbers from 1 to n. Unfortunately, due to some error, one of the numbers in s got duplicated to another number in the set, which results in repetition of one number and loss of another number.\n",
        "\n",
        "You are given an integer array nums representing the data status of this set after the error.\n",
        "\n",
        "Find the number that occurs twice and the number that is missing and return them in the form of an array.\n",
        "\n",
        "**Example 1:**\n",
        "Input: nums = [1,2,2,4]\n",
        "Output: [2,3]\n",
        "\n",
        "</aside>"
      ],
      "metadata": {
        "id": "LdWSBseTW5wd"
      }
    },
    {
      "cell_type": "code",
      "source": [
        "def find_dups(nums):\n",
        "  unique_nums = set()\n",
        "  for i in nums:\n",
        "    if i in unique_nums:\n",
        "      duplicate = i\n",
        "    else:\n",
        "      unique_nums.add(i)\n",
        "  \n",
        "  for i in range(1,len(nums) +1):\n",
        "    if i not in unique_nums:\n",
        "      missing = i\n",
        "\n",
        "  return [duplicate,missing]\n",
        "  \n",
        "# use case\n",
        "nums = [1,3,2,3,4]\n",
        "print(find_dups(nums))\n"
      ],
      "metadata": {
        "colab": {
          "base_uri": "https://localhost:8080/"
        },
        "id": "5DV_1D00T4h_",
        "outputId": "dbf8b79d-60dd-4224-f701-f7ad96027fb0"
      },
      "execution_count": 25,
      "outputs": [
        {
          "output_type": "stream",
          "name": "stdout",
          "text": [
            "[3, 5]\n"
          ]
        }
      ]
    },
    {
      "cell_type": "code",
      "source": [
        "from typing import List\n",
        "\n",
        "def find_dups(nums: List[int]) -> List[int]:\n",
        "\n",
        "  duplicate = -1\n",
        "  missing = -1\n",
        "\n",
        "  # Create a set to store unique numbers\n",
        "  unique_nums = set()\n",
        "\n",
        "  # Iterate through the array to find the duplicate\n",
        "  for i in nums:\n",
        "    if i in unique_nums:\n",
        "      duplicate = i\n",
        "    else:\n",
        "      unique_nums.add(i)\n",
        "  \n",
        "  # Iterate from 1 to the length of the array to find the missing number\n",
        "  for i in range(1, len(nums) + 1):\n",
        "    if i not in unique_nums:\n",
        "      missing = i\n",
        "\n",
        "  # Return the duplicate and missing numbers as a list\n",
        "  return [duplicate, missing]\n",
        "\n",
        "# Test case\n",
        "nums = [1, 3, 2, 3, 4]\n",
        "print(find_dups(nums))"
      ],
      "metadata": {
        "colab": {
          "base_uri": "https://localhost:8080/"
        },
        "id": "dq-qH9Dojd_e",
        "outputId": "1ad540f2-b0ee-4ce2-983e-256a1ce31fc3"
      },
      "execution_count": 26,
      "outputs": [
        {
          "output_type": "stream",
          "name": "stdout",
          "text": [
            "[3, 5]\n"
          ]
        }
      ]
    }
  ]
}